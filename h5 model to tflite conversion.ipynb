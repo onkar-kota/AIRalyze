{
 "cells": [
  {
   "cell_type": "code",
   "execution_count": 1,
   "metadata": {
    "colab": {
     "base_uri": "https://localhost:8080/"
    },
    "executionInfo": {
     "elapsed": 858,
     "status": "ok",
     "timestamp": 1634925458255,
     "user": {
      "displayName": "Sukonya Phukan",
      "photoUrl": "https://lh3.googleusercontent.com/a/default-user=s64",
      "userId": "01648736599143974157"
     },
     "user_tz": -330
    },
    "id": "3FoAmE4BkbM9",
    "outputId": "385b69f6-0259-4cdd-9acb-037aabad02d5"
   },
   "outputs": [
    {
     "name": "stdout",
     "output_type": "stream",
     "text": [
      "Drive already mounted at /content/drive; to attempt to forcibly remount, call drive.mount(\"/content/drive\", force_remount=True).\n"
     ]
    }
   ],
   "source": [
    "from google.colab import drive\n",
    "drive.mount('/content/drive')"
   ]
  },
  {
   "cell_type": "code",
   "execution_count": 2,
   "metadata": {
    "executionInfo": {
     "elapsed": 2456,
     "status": "ok",
     "timestamp": 1634925469279,
     "user": {
      "displayName": "Sukonya Phukan",
      "photoUrl": "https://lh3.googleusercontent.com/a/default-user=s64",
      "userId": "01648736599143974157"
     },
     "user_tz": -330
    },
    "id": "fESIP0T2MAd3"
   },
   "outputs": [],
   "source": [
    "import tensorflow as tf"
   ]
  },
  {
   "cell_type": "code",
   "execution_count": 3,
   "metadata": {
    "colab": {
     "base_uri": "https://localhost:8080/"
    },
    "executionInfo": {
     "elapsed": 63601,
     "status": "ok",
     "timestamp": 1634925587579,
     "user": {
      "displayName": "Sukonya Phukan",
      "photoUrl": "https://lh3.googleusercontent.com/a/default-user=s64",
      "userId": "01648736599143974157"
     },
     "user_tz": -330
    },
    "id": "BHzyVqtrkirN",
    "outputId": "646e6cd9-cffb-4b48-b8f0-523f009299a5"
   },
   "outputs": [
    {
     "name": "stdout",
     "output_type": "stream",
     "text": [
      "INFO:tensorflow:Assets written to: /tmp/tmpgncvrw9k/assets\n"
     ]
    },
    {
     "data": {
      "text/plain": [
       "87941700"
      ]
     },
     "execution_count": 3,
     "metadata": {},
     "output_type": "execute_result"
    }
   ],
   "source": [
    "model = tf.keras.models.load_model('/content/drive/MyDrive/Model/inception_v3_weights_tf_dim_ordering_tf_kernels_notop.h5')\n",
    "converter = tf.lite.TFLiteConverter.from_keras_model(model)\n",
    "tflite_model = converter.convert()\n",
    "open(\"air_pollution_detection_inception_v3.tflite\", \"wb\").write(tflite_model)"
   ]
  }
 ],
 "metadata": {
  "accelerator": "GPU",
  "colab": {
   "authorship_tag": "ABX9TyP1fVEBaXwb71ivBm4SgwbS",
   "mount_file_id": "1-3SL_zg99pPyTG09nJv_bvaIeazyyd_7",
   "name": "h5 model to tflite conversion.ipynb",
   "provenance": []
  },
  "kernelspec": {
   "display_name": "Python 3",
   "language": "python",
   "name": "python3"
  },
  "language_info": {
   "codemirror_mode": {
    "name": "ipython",
    "version": 3
   },
   "file_extension": ".py",
   "mimetype": "text/x-python",
   "name": "python",
   "nbconvert_exporter": "python",
   "pygments_lexer": "ipython3",
   "version": "3.8.8"
  }
 },
 "nbformat": 4,
 "nbformat_minor": 1
}
